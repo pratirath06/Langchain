{
 "cells": [
  {
   "cell_type": "code",
   "execution_count": 1,
   "id": "c571d252",
   "metadata": {},
   "outputs": [
    {
     "data": {
      "text/plain": [
       "\"\\npip install langchain_openai\\npip install langchain_core\\npip install python-dotenv\\npip install streamlit\\npip install langchain_community\\npip install langserve\\npip install fastapi\\npip install uvicorn\\npip install sse_starlette\\npip install bs4\\npip install pypdf\\npip install chromadb\\npip install faiss-cpu\\npip install groq\\npip install cassio\\npip install beautifulsoup4\\npip install langchain-groq\\npip install wikipedia\\npip install arxiv\\npip install langchainhub\\npip install sentence_transformers\\npip install PyPDF2\\npip install langchain-objectbox\\npip install crewai\\npip install crewai['tools']\\n\""
      ]
     },
     "execution_count": 1,
     "metadata": {},
     "output_type": "execute_result"
    }
   ],
   "source": [
    "#pip install langchain\n",
    "'''\n",
    "pip install langchain_openai\n",
    "pip install langchain_core\n",
    "pip install python-dotenv\n",
    "pip install streamlit\n",
    "pip install langchain_community\n",
    "pip install langserve\n",
    "pip install fastapi\n",
    "pip install uvicorn\n",
    "pip install sse_starlette\n",
    "pip install bs4\n",
    "pip install pypdf\n",
    "pip install chromadb\n",
    "pip install faiss-cpu\n",
    "pip install groq\n",
    "pip install cassio\n",
    "pip install beautifulsoup4\n",
    "pip install langchain-groq\n",
    "pip install wikipedia\n",
    "pip install arxiv\n",
    "pip install langchainhub\n",
    "pip install sentence_transformers\n",
    "pip install PyPDF2\n",
    "pip install langchain-objectbox\n",
    "pip install crewai\n",
    "pip install crewai['tools']\n",
    "'''"
   ]
  },
  {
   "cell_type": "code",
   "execution_count": 2,
   "id": "93fdb609",
   "metadata": {},
   "outputs": [],
   "source": [
    "#pip install blosc2 cython\n"
   ]
  },
  {
   "cell_type": "code",
   "execution_count": 3,
   "id": "86ac19f8",
   "metadata": {},
   "outputs": [],
   "source": [
    "#pip install black==22.3.0\n"
   ]
  },
  {
   "cell_type": "code",
   "execution_count": 4,
   "id": "cb2a2557",
   "metadata": {},
   "outputs": [],
   "source": [
    "#pip install --upgrade tables python-lsp-black"
   ]
  },
  {
   "cell_type": "code",
   "execution_count": 5,
   "id": "5eac5991",
   "metadata": {},
   "outputs": [],
   "source": [
    "#pip install streamlit"
   ]
  },
  {
   "cell_type": "code",
   "execution_count": 6,
   "id": "3637576e",
   "metadata": {},
   "outputs": [],
   "source": [
    "#pip install -qU langchain-groq"
   ]
  },
  {
   "cell_type": "code",
   "execution_count": 7,
   "id": "7e22512f",
   "metadata": {},
   "outputs": [],
   "source": [
    "import os\n",
    "import streamlit as st\n",
    "from api import Groq_API,Langchain_API,Mistral_API,HF_API,HF1,M1"
   ]
  },
  {
   "cell_type": "code",
   "execution_count": 8,
   "id": "082c8773",
   "metadata": {},
   "outputs": [],
   "source": [
    "os.environ[\"LANGCHAIN_TRACING_V2\"] = \"true\"\n",
    "os.environ[\"LANGCHAIN_API_KEY\"] = Langchain_API"
   ]
  },
  {
   "cell_type": "code",
   "execution_count": 9,
   "id": "78e673f2",
   "metadata": {},
   "outputs": [],
   "source": [
    "os.environ[\"GROQ_API_KEY\"] = Groq_API\n",
    "os.environ[\"MISTRALAI_API_KEY\"] = M1\n",
    "os.environ[\"HF_TOKEN\"] = HF1"
   ]
  },
  {
   "cell_type": "code",
   "execution_count": 10,
   "id": "79709a1c",
   "metadata": {},
   "outputs": [
    {
     "name": "stdout",
     "output_type": "stream",
     "text": [
      "Working fine\n"
     ]
    }
   ],
   "source": [
    "from langchain_groq import ChatGroq\n",
    "\n",
    "model = ChatGroq(model=\"llama3-8b-8192\")\n",
    "print(\"Working fine\")"
   ]
  },
  {
   "cell_type": "code",
   "execution_count": 11,
   "id": "2eb18782",
   "metadata": {},
   "outputs": [
    {
     "data": {
      "text/plain": [
       "'messages = [\\n    SystemMessage(content=\"You are a poet\"),\\n    HumanMessage(content=\"Who is steve jobs\"),\\n]\\n\\noutput = model.invoke(messages)\\nStrOutputParser().invoke(output)'"
      ]
     },
     "execution_count": 11,
     "metadata": {},
     "output_type": "execute_result"
    }
   ],
   "source": [
    "from langchain_core.messages import HumanMessage, SystemMessage\n",
    "from langchain_core.output_parsers import StrOutputParser\n",
    "'''messages = [\n",
    "    SystemMessage(content=\"You are a poet\"),\n",
    "    HumanMessage(content=\"Who is steve jobs\"),\n",
    "]\n",
    "\n",
    "output = model.invoke(messages)\n",
    "StrOutputParser().invoke(output)'''"
   ]
  },
  {
   "cell_type": "code",
   "execution_count": 12,
   "id": "b9382c56",
   "metadata": {},
   "outputs": [
    {
     "data": {
      "text/plain": [
       "'parser = StrOutputParser()\\n\\nresult = model.invoke(messages)\\nparser.invoke(result)'"
      ]
     },
     "execution_count": 12,
     "metadata": {},
     "output_type": "execute_result"
    }
   ],
   "source": [
    "from langchain_core.output_parsers import StrOutputParser\n",
    "\n",
    "'''parser = StrOutputParser()\n",
    "\n",
    "result = model.invoke(messages)\n",
    "parser.invoke(result)'''"
   ]
  },
  {
   "cell_type": "code",
   "execution_count": 13,
   "id": "5e093507",
   "metadata": {},
   "outputs": [
    {
     "data": {
      "text/plain": [
       "'model.invoke(\"how can langsmith help with testing?\")'"
      ]
     },
     "execution_count": 13,
     "metadata": {},
     "output_type": "execute_result"
    }
   ],
   "source": [
    "'''model.invoke(\"how can langsmith help with testing?\")'''"
   ]
  },
  {
   "cell_type": "code",
   "execution_count": 14,
   "id": "5774f75c",
   "metadata": {},
   "outputs": [
    {
     "name": "stderr",
     "output_type": "stream",
     "text": [
      "USER_AGENT environment variable not set, consider setting it to identify your requests.\n"
     ]
    }
   ],
   "source": [
    "from langchain_community.document_loaders import WebBaseLoader\n",
    "loader=WebBaseLoader(web_paths=[\"https://www.goodeeworld.com/\"])\n",
    "text_documents=loader.load()\n",
    "text_documents\n",
    "loader1=WebBaseLoader(web_paths=[\"https://www.goodeeworld.com/pages/faq\"])\n",
    "text_documents1=loader1.load()\n"
   ]
  },
  {
   "cell_type": "code",
   "execution_count": 15,
   "id": "af97f548",
   "metadata": {},
   "outputs": [
    {
     "data": {
      "text/plain": [
       "[Document(metadata={'source': 'https://www.goodeeworld.com/', 'title': '\\n      Where Design meets Purpose\\n      \\n      \\n       – Goodee\\n    ', 'description': 'Join Goodee on a journey towards discovering curated products and content by designers who believe in doing good. It’s a marketplace built for a better world.', 'language': 'en'}, page_content='Where Design meets Purpose\\n      \\n      \\n       – Goodee\\n    \\n\\n\\n\\n\\n\\n\\n\\n\\n\\n\\n\\n\\n\\n\\n\\n\\n\\n\\n\\n\\n\\n\\n\\n\\n\\n\\n\\n\\n\\n\\n\\n\\n\\n\\n\\n\\n\\n\\n\\n\\n\\n\\n\\n\\n\\n\\n\\n\\n\\n\\n\\n\\n\\n\\n\\n\\n\\n\\n\\n\\n\\n\\n\\n\\n\\n\\n\\n\\n\\n\\n\\n\\n\\n\\n\\n\\n\\n\\n\\n\\n\\n\\n\\n\\n\\n\\n\\n\\n\\n\\n\\n\\n\\n\\n\\n\\n\\n\\n\\n\\n\\n\\n\\n\\n\\n\\n\\n\\n\\n\\n\\n\\n\\n\\n \\n\\n\\n\\n\\n\\nSkip to content\\n\\n\\n\\n\\n\\n\\n\\n\\n\\n\\n\\n                    Shopping cart\\n                    \\n                  \\n\\n\\n\\n      You are $175.00 away from free shipping\\n    \\n\\n      You are eligible for free shipping!\\n    \\n\\n\\n\\n\\n\\n\\n\\n\\n\\n\\n\\n\\n\\nCheck out\\n\\n\\n\\n\\n\\n\\n\\n\\nYour cart is empty\\nStart shopping\\n\\n\\n\\n\\n\\n\\n\\n\\n\\n\\n\\n\\n\\n\\nFritz Hansen - now 20% off. Limited Time. Shop here\\n\\nFree Carbon-Offset Shipping on orders from $175 USD. Exclusions Apply.\\n\\nSign-up for our newsletter and receive 15% off your first purchase. *Conditions Apply.\\n\\n\\n\\nLeft\\nRight\\n\\n\\n\\n\\n\\n\\nAbout Us\\nGift Registry\\nTrade Program\\nImpact Report\\n\\n\\n\\n\\n        Currency\\n      \\n\\n\\n          \\n          USD\\xa0$\\n          Down\\n\\n\\n\\n\\nCanada\\n(CAD\\xa0$)\\n\\n\\n\\n\\nUnited States\\n(USD\\xa0$)\\n\\n\\n\\n\\n\\n\\n\\n        Language\\n      \\n\\n\\n          Select Language\\n          Down\\n\\n\\n\\n\\n              FR'),\n",
       " Document(metadata={'source': 'https://www.goodeeworld.com/', 'title': '\\n      Where Design meets Purpose\\n      \\n      \\n       – Goodee\\n    ', 'description': 'Join Goodee on a journey towards discovering curated products and content by designers who believe in doing good. It’s a marketplace built for a better world.', 'language': 'en'}, page_content='USD\\xa0$\\n          Down\\n\\n\\n\\n\\nCanada\\n(CAD\\xa0$)\\n\\n\\n\\n\\nUnited States\\n(USD\\xa0$)\\n\\n\\n\\n\\n\\n\\n\\n        Language\\n      \\n\\n\\n          Select Language\\n          Down\\n\\n\\n\\n\\n              FR\\n            \\n\\n\\n\\n              EN\\n            \\n\\n\\n\\n\\n\\n\\n\\n\\n\\n\\n\\n\\n\\n\\n\\n\\n\\n\\n\\n\\n\\n\\n\\n\\n\\nSearch\\n\\n\\n\\n\\n\\n\\n\\n\\n\\n\\n\\n\\n        Currency\\n      \\n\\n\\n          \\n          USD\\xa0$\\n          Down\\n\\n\\n\\n\\nCanada\\n(CAD\\xa0$)\\n\\n\\n\\n\\nUnited States\\n(USD\\xa0$)\\n\\n\\n\\n\\n\\n\\nAccount\\n\\n\\n\\n\\n\\n\\n\\n\\n\\nSearch\\n\\n\\n\\n\\n\\n\\n\\n\\nCart\\n\\n\\n\\n\\n\\n\\n\\n\\n\\n\\n\\n\\n\\n\\n\\n\\n\\n\\n\\n\\n\\n\\n\\n\\n\\n\\n\\n\\n\\n\\n\\n\\n\\n\\n\\n\\n\\nNew Arrivals\\n\\n\\nBest Sellers\\n\\n\\nGifts\\nToggle menu\\n\\n\\n\\nOccasion\\nToggle menu\\n\\n\\n\\nHousewarming\\n\\n\\nWedding\\n\\n\\nCorporate\\n\\n\\n\\n\\n\\nGender\\nToggle menu\\n\\n\\n\\nGifts for Her\\n\\n\\nGifts for Him\\n\\n\\nGifts for Them\\n\\n\\n\\n\\n\\nPrice\\nToggle menu\\n\\n\\n\\nGifts under $50\\n\\n\\nGifts under $75\\n\\n\\nGifts under $100\\n\\n\\nGifts under $200\\n\\n\\n\\n\\n\\n\\n\\n\\n\\n\\n\\n\\nHousewarming Gifts\\n\\n\\n\\n\\n\\n\\n\\n\\nGifts Under 50 USD\\n\\n\\n\\n\\n\\n\\n\\n\\nGifts Under 75 USD\\n\\n\\n\\n\\nGarden\\nToggle menu\\n\\n\\n\\nCategories\\nToggle menu\\n\\n\\n\\nWatering Cans\\n\\n\\nGardening Tools\\n\\n\\nPots + Planters \\n\\n\\nShop All Garden\\n\\n\\n\\n\\n\\nFeatured Brands\\nToggle menu\\n\\n\\n\\nSneeboer'),\n",
       " Document(metadata={'source': 'https://www.goodeeworld.com/', 'title': '\\n      Where Design meets Purpose\\n      \\n      \\n       – Goodee\\n    ', 'description': 'Join Goodee on a journey towards discovering curated products and content by designers who believe in doing good. It’s a marketplace built for a better world.', 'language': 'en'}, page_content='Gifts Under 75 USD\\n\\n\\n\\n\\nGarden\\nToggle menu\\n\\n\\n\\nCategories\\nToggle menu\\n\\n\\n\\nWatering Cans\\n\\n\\nGardening Tools\\n\\n\\nPots + Planters \\n\\n\\nShop All Garden\\n\\n\\n\\n\\n\\nFeatured Brands\\nToggle menu\\n\\n\\n\\nSneeboer\\n\\n\\nNiwaki\\n\\n\\nHaws\\n\\n\\nBergs Potter\\n\\n\\n\\n\\n\\n\\n\\n\\n\\n\\n\\n\\nWatering Cans\\n\\n\\n\\n\\n\\n\\n\\n\\nPots & Planters\\n\\n\\n\\n\\n\\n\\n\\n\\nGardening Tools\\n\\n\\n\\n\\nHousehold\\nToggle menu\\n\\n\\n\\nCategories\\nToggle menu\\n\\n\\n\\nBrooms + Cleaning\\n\\n\\nBathroom Accessories\\n\\n\\nEntryway Essentials\\n\\n\\nFabric Care\\n\\n\\nLight Bulbs\\n\\n\\nSelf Care\\n\\n\\nHome Scents\\n\\n\\nShop All Household\\n\\n\\n\\n\\n\\nFeatured Brands\\nToggle menu\\n\\n\\n\\nIris Hantverk\\n\\n\\nRedecker\\n\\n\\nBerea College\\n\\n\\nTakada\\n\\n\\nPrairie Breeze Folk Arts Studio\\n\\n\\nSteamery\\n\\n\\n\\n\\n\\n\\n\\n\\n\\n\\n\\n\\nEntryway Essentials\\n\\n\\n\\n\\n\\n\\n\\n\\nBathroom Accessories\\n\\n\\n\\n\\n\\n\\n\\n\\nBrooms + Cleaning\\n\\n\\n\\n\\nDecor\\nToggle menu\\n\\n\\n\\nCategories\\nToggle menu\\n\\n\\n\\nBaskets\\n\\n\\nBicycle Baskets\\n\\n\\nDecorative Objects\\n\\n\\nCandles + Home Scents\\n\\n\\nLighting\\n\\n\\nPots + Planters\\n\\n\\nVases\\n\\n\\nTrays\\n\\n\\nShop All Decor\\n\\n\\n\\n\\n\\nTextile\\nToggle menu\\n\\n\\n\\nMattresses\\n\\n\\nBlankets + Throws\\n\\n\\nCushions + Pillows\\n\\n\\nRugs'),\n",
       " Document(metadata={'source': 'https://www.goodeeworld.com/', 'title': '\\n      Where Design meets Purpose\\n      \\n      \\n       – Goodee\\n    ', 'description': 'Join Goodee on a journey towards discovering curated products and content by designers who believe in doing good. It’s a marketplace built for a better world.', 'language': 'en'}, page_content='Decorative Objects\\n\\n\\nCandles + Home Scents\\n\\n\\nLighting\\n\\n\\nPots + Planters\\n\\n\\nVases\\n\\n\\nTrays\\n\\n\\nShop All Decor\\n\\n\\n\\n\\n\\nTextile\\nToggle menu\\n\\n\\n\\nMattresses\\n\\n\\nBlankets + Throws\\n\\n\\nCushions + Pillows\\n\\n\\nRugs\\n\\n\\n\\n\\n\\nFeatured Brands\\nToggle menu\\n\\n\\n\\nEzcaray\\n\\n\\nTensira\\n\\n\\nBaba Tree\\n\\n\\nBergs Potter\\n\\n\\nFerm Living\\n\\n\\nMakaua\\n\\n\\n\\n\\n\\n\\n\\n\\n\\n\\n\\n\\nBaskets\\n\\n\\n\\n\\n\\n\\n\\n\\nBlankets + Throws\\n\\n\\n\\n\\n\\n\\n\\n\\nCushions + Pillows\\n\\n\\n\\n\\nDining\\nToggle menu\\n\\n\\n\\nCategories\\nToggle menu\\n\\n\\n\\nServeware\\n\\n\\nDinnerware\\n\\n\\nDrinkware\\n\\n\\nTabletop + Accessories\\n\\n\\nTrays\\n\\n\\nShop All Dining\\n\\n\\n\\n\\n\\nFeatured Brands\\nToggle menu\\n\\n\\n\\n1616/Arita Japan\\n\\n\\nXaquixe\\n\\n\\nAnūt\\n\\n\\nFerm Living\\n\\n\\nLSA International\\n\\n\\n\\n\\n\\n\\n\\n\\n\\n\\n\\n\\nDinnerware\\n\\n\\n\\n\\n\\n\\n\\n\\nTrays\\n\\n\\n\\n\\n\\n\\n\\n\\nDrinkware\\n\\n\\n\\n\\nFurniture\\nToggle menu\\n\\n\\n\\nCategories\\nToggle menu\\n\\n\\n\\nKids Furniture\\n\\n\\nChairs\\n\\n\\nTables + Desks\\n\\n\\nStools + Benches\\n\\n\\nShelving + Storage\\n\\n\\nOutdoor Furniture\\n\\n\\nShop All Furniture\\n\\n\\n\\n\\n\\nFeatured Brands\\nToggle menu\\n\\n\\n\\nEcoBirdy\\n\\n\\nFrama\\n\\n\\nNanimarquina\\n\\n\\nCarl Hansen & Søn\\n\\n\\nFerm Living\\n\\n\\nFritz Hansen\\n\\n\\n\\n\\n\\n\\n\\n\\n\\n\\n\\n\\nKids Furniture'),\n",
       " Document(metadata={'source': 'https://www.goodeeworld.com/', 'title': '\\n      Where Design meets Purpose\\n      \\n      \\n       – Goodee\\n    ', 'description': 'Join Goodee on a journey towards discovering curated products and content by designers who believe in doing good. It’s a marketplace built for a better world.', 'language': 'en'}, page_content='Outdoor Furniture\\n\\n\\nShop All Furniture\\n\\n\\n\\n\\n\\nFeatured Brands\\nToggle menu\\n\\n\\n\\nEcoBirdy\\n\\n\\nFrama\\n\\n\\nNanimarquina\\n\\n\\nCarl Hansen & Søn\\n\\n\\nFerm Living\\n\\n\\nFritz Hansen\\n\\n\\n\\n\\n\\n\\n\\n\\n\\n\\n\\n\\nKids Furniture\\n\\n\\n\\n\\n\\n\\n\\n\\nShelving + Storage\\n\\n\\n\\n\\n\\n\\n\\n\\nTables + Desks\\n\\n\\n\\n\\nLifestyle\\nToggle menu\\n\\n\\n\\nCategories\\nToggle menu\\n\\n\\n\\nScarves\\n\\n\\nPets\\n\\n\\nSelf Care\\n\\n\\nBicycle Baskets\\n\\n\\nApparel + Accessories\\n\\n\\nStationery\\n\\n\\nShop All Lifestyle\\n\\n\\n\\n\\n\\nFeatured Brands\\nToggle menu\\n\\n\\n\\nFrama\\n\\n\\nBaba Tree\\n\\n\\nKarst\\n\\n\\nTamanohada\\n\\n\\n\\n\\n\\n\\n\\n\\n\\n\\n\\n\\nScarves\\n\\n\\n\\n\\n\\n\\n\\n\\nPets\\n\\n\\n\\n\\n\\n\\n\\n\\nBicycle Baskets\\n\\n\\n\\n\\nOur Brands\\n\\n\\nBrands\\nToggle menu\\n\\n\\n\\nToggle menu\\n\\n\\n\\n1616/Arita Japan\\n\\n\\nAmes\\n\\n\\nAnūt\\n\\n\\nAstep\\n\\n\\nBaba Tree\\n\\n\\nBeeswax Candles by Alysia Mazzella\\n\\n\\nBerea College\\n\\n\\n\\n\\n\\nToggle menu\\n\\n\\n\\nBergs Potter\\n\\n\\nCarl Hansen & Søn\\n\\n\\nEcoBirdy\\n\\n\\nEmeco\\n\\n\\nEzcaray\\n\\n\\nFerm Living\\n\\n\\nFogo Island Workshops\\n\\n\\nFrama\\n\\n\\nFredericia\\n\\n\\n\\n\\n\\nToggle menu\\n\\n\\n\\nFritz Hansen\\n\\n\\nGolden Editions\\n\\n\\nGoodee\\n\\n\\nHaws\\n\\n\\nIris Hantverk\\n\\n\\nKarst\\n\\n\\nLSA International\\n\\n\\nMahota Textiles\\n\\n\\nMakaua\\n\\n\\n\\n\\n\\nToggle menu\\n\\n\\n\\nManglam Arts')]"
      ]
     },
     "execution_count": 15,
     "metadata": {},
     "output_type": "execute_result"
    }
   ],
   "source": [
    "from langchain.text_splitter import RecursiveCharacterTextSplitter\n",
    "text_splitter=RecursiveCharacterTextSplitter(chunk_size=1000,chunk_overlap=200)\n",
    "documents=text_splitter.split_documents(text_documents)\n",
    "documents1=text_splitter.split_documents(text_documents1)\n",
    "documents[:5]"
   ]
  },
  {
   "cell_type": "code",
   "execution_count": 17,
   "id": "b72d27b2",
   "metadata": {},
   "outputs": [
    {
     "data": {
      "text/plain": [
       "VectorStoreRetriever(tags=['FAISS', 'MistralAIEmbeddings'], vectorstore=<langchain_community.vectorstores.faiss.FAISS object at 0x000001B8D8D98D10>)"
      ]
     },
     "execution_count": 17,
     "metadata": {},
     "output_type": "execute_result"
    }
   ],
   "source": [
    "from langchain_community.vectorstores import FAISS\n",
    "from langchain_mistralai import MistralAIEmbeddings\n",
    "from langchain_huggingface import HuggingFaceEmbeddings\n",
    "import time\n",
    "\n",
    "#embeddings = HuggingFaceEmbeddings(model_name=\"mistral-embed\")\n",
    "\n",
    "\n",
    "# Create the embedding object\n",
    "embedding = MistralAIEmbeddings(model=\"mistral-embed\", api_key=M1)\n",
    "\n",
    "\n",
    "# Initialize FAISS vectorstore\n",
    "db = FAISS.from_documents(documents=documents, embedding=embedding)\n",
    "time.sleep(2)\n",
    "db1 = FAISS.from_documents(documents=documents1, embedding=embedding)\n",
    "\n",
    "# Create retriever\n",
    "retriever = db.as_retriever()\n",
    "retriever1 = db1.as_retriever()\n",
    "retriever\n"
   ]
  },
  {
   "cell_type": "code",
   "execution_count": 75,
   "id": "6c0644ec",
   "metadata": {},
   "outputs": [
    {
     "data": {
      "text/plain": [
       "'query = \"Who are the authors of attention is all you need?\"\\nretrieved_results=db.similarity_search(query)\\nprint(retrieved_results[0].page_content)'"
      ]
     },
     "execution_count": 75,
     "metadata": {},
     "output_type": "execute_result"
    }
   ],
   "source": [
    "'''query = \"Who are the authors of attention is all you need?\"\n",
    "retrieved_results=db.similarity_search(query)\n",
    "print(retrieved_results[0].page_content)'''"
   ]
  },
  {
   "cell_type": "code",
   "execution_count": null,
   "id": "71938b76",
   "metadata": {},
   "outputs": [],
   "source": [
    "'''from langchain_community.vectorstores import FAISS\n",
    "db = FAISS.from_documents(documents, OllamaEmbeddings(model=\"llama3.1\",))\n",
    "retriever = vectorstore.as_retriever()'''"
   ]
  },
  {
   "cell_type": "code",
   "execution_count": 18,
   "id": "3ffe8962",
   "metadata": {},
   "outputs": [],
   "source": [
    "from langchain_core.prompts import ChatPromptTemplate\n",
    "'''prompt = ChatPromptTemplate.from_template(\"\"\"Suggest user few product based on their requirement along with URL from context so that he can purchase. URL should be strictly from context only.\n",
    "<context>\n",
    "{context}\n",
    "</context>\n",
    "Question: {input}\"\"\")'''\n",
    "prompt = ChatPromptTemplate.from_template(\"\"\"Answer the user's question using the provided context. The answer should be strictly based on the context provided.\n",
    "\n",
    "<context>\n",
    "{context}\n",
    "</context>\n",
    "\n",
    "Question: {input}\n",
    "\"\"\")"
   ]
  },
  {
   "cell_type": "code",
   "execution_count": null,
   "id": "70e59a6a",
   "metadata": {},
   "outputs": [],
   "source": []
  },
  {
   "cell_type": "code",
   "execution_count": 19,
   "id": "6a04383e",
   "metadata": {},
   "outputs": [],
   "source": [
    "from langchain.chains.combine_documents import create_stuff_documents_chain\n",
    "\n",
    "document_chain=create_stuff_documents_chain(model,prompt)"
   ]
  },
  {
   "cell_type": "code",
   "execution_count": 20,
   "id": "c72cd180",
   "metadata": {},
   "outputs": [
    {
     "data": {
      "text/plain": [
       "VectorStoreRetriever(tags=['FAISS', 'MistralAIEmbeddings'], vectorstore=<langchain_community.vectorstores.faiss.FAISS object at 0x000001B8D8D98D10>)"
      ]
     },
     "execution_count": 20,
     "metadata": {},
     "output_type": "execute_result"
    }
   ],
   "source": [
    "retriever=db.as_retriever()\n",
    "retriever"
   ]
  },
  {
   "cell_type": "code",
   "execution_count": 21,
   "id": "c6cb8ba0",
   "metadata": {},
   "outputs": [
    {
     "data": {
      "text/plain": [
       "{'input': 'When will i receive my order?',\n",
       " 'context': [Document(metadata={'source': 'https://www.goodeeworld.com/pages/faq', 'title': '\\n      FAQ\\n      \\n      \\n       – Goodee\\n    ', 'language': 'en'}, page_content='Standard Ground Shipping: Arrives in 2-10 business days (add 5 days for Canada).Air Delivery Shipping: Arrives next day to 3 business days. Note: Some items are not eligible for Air Delivery.\\n\\n\\n\\n\\n\\n\\nWhy is my order to Canada taking longer to ship?\\n\\nTracking numbers for orders shipping to Canada might show a slight delay in package movement. This is normal, and you will receive an update within the next few days after your dispatch notification. If you have further questions or need assistance, please contact us at care@goodeeworld.com.\\n\\n\\n\\n\\n\\n\\nWhat should I do if my package shows as delivered but I haven’t received it?'),\n",
       "  Document(metadata={'source': 'https://www.goodeeworld.com/pages/faq', 'title': '\\n      FAQ\\n      \\n      \\n       – Goodee\\n    ', 'language': 'en'}, page_content='Shipping\\n\\n\\n\\n\\nWhat is your shipping policy?\\n\\nWe deliver to the USA and Canada only. We do not ship to PO Boxes, APO/FPO addresses, or US Territories. All orders are shipped DDP (Delivery Duty Paid), so no additional duty fees apply.\\n\\n\\n\\n\\n\\n\\nAre there any exceptions to free shipping promotions?\\n\\nYes, orders shipping to Hawaii and Alaska are exempt from free shipping promotions. Air shipping rates apply, but orders will be shipped via Standard Ground.\\n\\n\\n\\n\\n\\n\\nIf I buy from more than one brand, will I get multiple shipments?\\n\\nWe will consolidate all of your items into one shipment. In some cases your order may arrive in multiple shipments (i.e. in the case of items with lead times or on backorder).\\n\\n\\n\\n\\n\\n\\nWhat is the estimated shipping time?\\n\\nStandard Ground Shipping: Arrives in 2-10 business days (add 5 days for Canada).Air Delivery Shipping: Arrives next day to 3 business days. Note: Some items are not eligible for Air Delivery.'),\n",
       "  Document(metadata={'source': 'https://www.goodeeworld.com/pages/faq', 'title': '\\n      FAQ\\n      \\n      \\n       – Goodee\\n    ', 'language': 'en'}, page_content='Can I change or cancel my order once it’s been placed?\\n\\nOrder preparation begins promptly after you place your order, so changes or cancellations—including address modifications—cannot be guaranteed. To explore the possibilities, please contact us at care@goodeeworld.com as soon as possible.\\n\\n\\n\\n\\n\\n\\nWhat countries does Goodee ship to?\\n\\nGoodee currently ships to USA & Canada. We do not ship to PO Boxes, APO/FPO addresses, or US Territories.\\n\\n\\n\\n\\n\\n\\nWhat forms of payment are accepted?\\n\\nWe accept Visa, MasterCard, Amex, Discover, Diners Club, Shop Pay, Apple Pay, and Google Pay.\\n\\n\\n\\n\\n\\n\\nWhere is my shipment coming from?\\n\\nWith the exception of a few items, all products are shipped directly from our warehouse located in Champlain, New York. \\n\\n\\n\\n\\n\\n\\nDoes Goodee offer gift wrapping and could I add a gift note to my order?'),\n",
       "  Document(metadata={'source': 'https://www.goodeeworld.com/pages/faq', 'title': '\\n      FAQ\\n      \\n      \\n       – Goodee\\n    ', 'language': 'en'}, page_content='Refunds will be processed to your original form of payment within 14 days of receipt of the returned items. Please note that shipping charges are non-refundable.\\n\\n\\n\\n\\n\\n\\nDo you offer exchanges?\\n\\nNo, we do not offer exchanges. To receive a different product, please return the original item and place a new order.\\n\\n\\n\\n\\n\\n\\n\\n\\n\\n\\nGift Cards\\n\\n\\n\\n\\nHow can I purchase a Goodee gift card?\\n\\nYou can purchase a Goodee gift card directly from our website. Simply select the gift card option, choose the amount, and proceed to checkout.\\n\\n\\n\\n\\n\\n\\nWhat denominations are available for Goodee gift cards?\\n\\nGift cards are available in various denominations. The available amounts will be listed on our website at the time of purchase.\\n\\n\\n\\n\\n\\n\\nHow will I receive the gift card after purchase?\\n\\nGift cards are delivered digitally via email. You will receive an email containing the gift card code and instructions. Additionally, you have the option to send the gift card directly to the recipient of your choice digitally.')],\n",
       " 'answer': 'According to the provided context, the estimated shipping time for orders to Canada is:\\n\\n* Standard Ground Shipping: Arrives in 2-10 business days (add 5 days for Canada)\\n* Air Delivery Shipping: Not applicable for Canada\\n\\nSo, if you chose Standard Ground Shipping, your order to Canada is estimated to arrive between 7-15 business days (2-10 business days + 5 additional days).'}"
      ]
     },
     "execution_count": 21,
     "metadata": {},
     "output_type": "execute_result"
    },
    {
     "name": "stderr",
     "output_type": "stream",
     "text": [
      "Failed to batch ingest runs: LangSmithConnectionError(\"Connection error caused failure to POST https://api.smith.langchain.com/runs/batch  in LangSmith API. Please confirm your internet connection.. ConnectionError(ProtocolError('Connection aborted.', TimeoutError('The write operation timed out')))\")\n"
     ]
    }
   ],
   "source": [
    "from langchain.chains import create_retrieval_chain\n",
    "response=create_retrieval_chain(retriever1,document_chain)\n",
    "response.invoke({\"input\":\"When will i receive my order?\"})"
   ]
  },
  {
   "cell_type": "code",
   "execution_count": null,
   "id": "bd55060d",
   "metadata": {},
   "outputs": [],
   "source": [
    "# Import relevant functionality\n",
    "'''from langchain_anthropic import ChatAnthropic\n",
    "from langchain_community.tools.tavily_search import TavilySearchResults\n",
    "from langchain_core.messages import HumanMessage\n",
    "from langgraph.checkpoint.memory import MemorySaver\n",
    "from langgraph.prebuilt import create_react_agent\n",
    "\n",
    "# Create the agent\n",
    "memory = MemorySaver()\n",
    "search = TavilySearchResults(max_results=2)\n",
    "tools = [search]\n",
    "agent_executor = create_react_agent(model, tools, checkpointer=memory)\n",
    "\n",
    "# Use the agent\n",
    "config = {\"configurable\": {\"thread_id\": \"abc123\"}}\n",
    "for chunk in agent_executor.stream(\n",
    "    {\"messages\": [HumanMessage(content=\"hi im bob! and i live in sf\")]}, config\n",
    "):\n",
    "    print(chunk)\n",
    "    print(\"----\")\n",
    "\n",
    "for chunk in agent_executor.stream(\n",
    "    {\"messages\": [HumanMessage(content=\"whats the weather where I live?\")]}, config\n",
    "):\n",
    "    print(chunk)\n",
    "    print(\"----\")'''"
   ]
  },
  {
   "cell_type": "code",
   "execution_count": null,
   "id": "257bdf16",
   "metadata": {},
   "outputs": [],
   "source": [
    "from langchain_core.prompts import ChatPromptTemplate\n",
    "from langchain.chains.combine_documents import create_stuff_documents_chain\n",
    "from langchain.chains import create_retrieval_chain\n",
    "faq_agent_prompt = ChatPromptTemplate.from_template(\"\"\"Answer the user's question using the provided context. The answer should be strictly based on the context provided.\n",
    "\n",
    "<context>\n",
    "{context}\n",
    "</context>\n",
    "\n",
    "Question: {input}\n",
    "\"\"\")\n",
    "\n",
    "product_selection_prompt = ChatPromptTemplate.from_template(\"\"\"Suggest user a few products based on their requirements along with URLs from the context so they can purchase. The URL should be strictly from the context only.\n",
    "\n",
    "<context>\n",
    "{context}\n",
    "</context>\n",
    "\n",
    "Question: {input}\n",
    "\"\"\")\n",
    "\n",
    "customer_support_prompt = ChatPromptTemplate.from_template(\"\"\"Help resolve the user's issue or query based on the provided context.\n",
    "\n",
    "<context>\n",
    "{context}\n",
    "</context>\n",
    "\n",
    "Question: {input}\n",
    "\"\"\")\n",
    "retriever1=db.as_retriever()\n",
    "retriever2=db.as_retriever()\n",
    "retriever3=db.as_retriever()\n",
    "\n",
    "faq_prompt_chain=create_stuff_documents_chain(model,faq_agent_prompt)\n",
    "product_selection_chain=create_stuff_documents_chain(model,product_selection_prompt)\n",
    "customer_support_chain=create_stuff_documents_chain(model,customer_support_prompt)\n",
    "response1=create_retrieval_chain(retriever1,faq_prompt_chain)\n",
    "response1.invoke({\"input\":\"When will I receive my order?\"})\n",
    "response1\n"
   ]
  },
  {
   "cell_type": "code",
   "execution_count": null,
   "id": "f8a931d7",
   "metadata": {},
   "outputs": [],
   "source": [
    "response=create_retrieval_chain(retriever2,product_selection_chain)\n",
    "response.invoke({\"input\":\"I want chair\"})\n",
    "response"
   ]
  },
  {
   "cell_type": "code",
   "execution_count": null,
   "id": "82978d83",
   "metadata": {},
   "outputs": [],
   "source": [
    "response=create_retrieval_chain(retriever3,customer_support_chain)\n",
    "response.invoke({\"input\":\"How to order?\"})\n",
    "response"
   ]
  }
 ],
 "metadata": {
  "kernelspec": {
   "display_name": "Python 3 (ipykernel)",
   "language": "python",
   "name": "python3"
  },
  "language_info": {
   "codemirror_mode": {
    "name": "ipython",
    "version": 3
   },
   "file_extension": ".py",
   "mimetype": "text/x-python",
   "name": "python",
   "nbconvert_exporter": "python",
   "pygments_lexer": "ipython3",
   "version": "3.11.3"
  }
 },
 "nbformat": 4,
 "nbformat_minor": 5
}
